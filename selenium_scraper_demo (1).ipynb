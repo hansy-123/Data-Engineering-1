{
 "cells": [
  {
   "cell_type": "markdown",
   "metadata": {},
   "source": [
    "# Selenium Web Scraping Demo\n",
    "This notebook demonstrates how to use Selenium to interact with a dynamic website that requires form inputs and button clicks. We will scrape air quality data from the CPCB website."
   ]
  },
  {
   "cell_type": "code",
   "execution_count": 54,
   "metadata": {},
   "outputs": [
    {
     "name": "stdout",
     "output_type": "stream",
     "text": [
      "Requirement already satisfied: selenium in c:\\users\\senai\\anaconda3\\lib\\site-packages (4.32.0)\n",
      "Requirement already satisfied: webdriver-manager in c:\\users\\senai\\anaconda3\\lib\\site-packages (4.0.2)\n",
      "Requirement already satisfied: urllib3<3,>=1.26 in c:\\users\\senai\\anaconda3\\lib\\site-packages (from urllib3[socks]<3,>=1.26->selenium) (2.2.2)\n",
      "Requirement already satisfied: trio~=0.17 in c:\\users\\senai\\anaconda3\\lib\\site-packages (from selenium) (0.30.0)\n",
      "Requirement already satisfied: trio-websocket~=0.9 in c:\\users\\senai\\anaconda3\\lib\\site-packages (from selenium) (0.12.2)\n",
      "Requirement already satisfied: certifi>=2021.10.8 in c:\\users\\senai\\anaconda3\\lib\\site-packages (from selenium) (2024.8.30)\n",
      "Requirement already satisfied: typing_extensions~=4.9 in c:\\users\\senai\\anaconda3\\lib\\site-packages (from selenium) (4.11.0)\n",
      "Requirement already satisfied: websocket-client~=1.8 in c:\\users\\senai\\anaconda3\\lib\\site-packages (from selenium) (1.8.0)\n",
      "Requirement already satisfied: requests in c:\\users\\senai\\anaconda3\\lib\\site-packages (from webdriver-manager) (2.32.2)\n",
      "Requirement already satisfied: python-dotenv in c:\\users\\senai\\anaconda3\\lib\\site-packages (from webdriver-manager) (0.21.0)\n",
      "Requirement already satisfied: packaging in c:\\users\\senai\\anaconda3\\lib\\site-packages (from webdriver-manager) (23.2)\n",
      "Requirement already satisfied: attrs>=23.2.0 in c:\\users\\senai\\anaconda3\\lib\\site-packages (from trio~=0.17->selenium) (25.3.0)\n",
      "Requirement already satisfied: sortedcontainers in c:\\users\\senai\\anaconda3\\lib\\site-packages (from trio~=0.17->selenium) (2.4.0)\n",
      "Requirement already satisfied: idna in c:\\users\\senai\\anaconda3\\lib\\site-packages (from trio~=0.17->selenium) (3.7)\n",
      "Requirement already satisfied: outcome in c:\\users\\senai\\anaconda3\\lib\\site-packages (from trio~=0.17->selenium) (1.3.0.post0)\n",
      "Requirement already satisfied: sniffio>=1.3.0 in c:\\users\\senai\\anaconda3\\lib\\site-packages (from trio~=0.17->selenium) (1.3.0)\n",
      "Requirement already satisfied: cffi>=1.14 in c:\\users\\senai\\anaconda3\\lib\\site-packages (from trio~=0.17->selenium) (1.16.0)\n",
      "Requirement already satisfied: wsproto>=0.14 in c:\\users\\senai\\anaconda3\\lib\\site-packages (from trio-websocket~=0.9->selenium) (1.2.0)\n",
      "Requirement already satisfied: pysocks!=1.5.7,<2.0,>=1.5.6 in c:\\users\\senai\\anaconda3\\lib\\site-packages (from urllib3[socks]<3,>=1.26->selenium) (1.7.1)\n",
      "Requirement already satisfied: charset-normalizer<4,>=2 in c:\\users\\senai\\anaconda3\\lib\\site-packages (from requests->webdriver-manager) (2.0.4)\n",
      "Requirement already satisfied: pycparser in c:\\users\\senai\\anaconda3\\lib\\site-packages (from cffi>=1.14->trio~=0.17->selenium) (2.21)\n",
      "Requirement already satisfied: h11<1,>=0.9.0 in c:\\users\\senai\\anaconda3\\lib\\site-packages (from wsproto>=0.14->trio-websocket~=0.9->selenium) (0.14.0)\n"
     ]
    }
   ],
   "source": [
    "# Install required packages\n",
    "!pip install selenium webdriver-manager"
   ]
  },
  {
   "cell_type": "code",
   "execution_count": 56,
   "metadata": {},
   "outputs": [
    {
     "name": "stdout",
     "output_type": "stream",
     "text": [
      "Secure Content:\n",
      " Secure Area\n",
      "Welcome to the Secure Area. When you are done click logout below.\n",
      "Logout\n",
      "Staying on the secure page for 5 seconds...\n",
      "Error: Message: invalid session id: session deleted as the browser has closed the connection\n",
      "from disconnected: not connected to DevTools\n",
      "  (Session info: chrome=135.0.7049.115)\n",
      "Stacktrace:\n",
      "\tGetHandleVerifier [0x0067D363+60275]\n",
      "\tGetHandleVerifier [0x0067D3A4+60340]\n",
      "\t(No symbol) [0x004B06F3]\n",
      "\t(No symbol) [0x0049FF20]\n",
      "\t(No symbol) [0x004BDDA2]\n",
      "\t(No symbol) [0x00523D2F]\n",
      "\t(No symbol) [0x0053DFE9]\n",
      "\t(No symbol) [0x0051CE86]\n",
      "\t(No symbol) [0x004EC623]\n",
      "\t(No symbol) [0x004ED474]\n",
      "\tGetHandleVerifier [0x008C8FE3+2467827]\n",
      "\tGetHandleVerifier [0x008C45E6+2448886]\n",
      "\tGetHandleVerifier [0x008DF80C+2560028]\n",
      "\tGetHandleVerifier [0x00693DF5+153093]\n",
      "\tGetHandleVerifier [0x0069A3BD+179149]\n",
      "\tGetHandleVerifier [0x00684BB8+91080]\n",
      "\tGetHandleVerifier [0x00684D60+91504]\n",
      "\tGetHandleVerifier [0x0066FA10+4640]\n",
      "\tBaseThreadInitThunk [0x76145D49+25]\n",
      "\tRtlInitializeExceptionChain [0x77A6CE3B+107]\n",
      "\tRtlGetAppContainerNamedObjectPath [0x77A6CDC1+561]\n",
      "\n"
     ]
    }
   ],
   "source": [
    "import time\n",
    "from selenium import webdriver\n",
    "from selenium.webdriver.common.by import By\n",
    "from selenium.webdriver.common.keys import Keys\n",
    "from selenium.webdriver.chrome.service import Service\n",
    "from selenium.webdriver.chrome.options import Options\n",
    "from selenium.webdriver.support.ui import WebDriverWait\n",
    "from selenium.webdriver.support import expected_conditions as EC\n",
    "from webdriver_manager.chrome import ChromeDriverManager\n",
    "\n",
    "# Setup Chrome options\n",
    "chrome_options = Options()\n",
    "# chrome_options.add_argument(\"--headless\")  # Remove for visible browser\n",
    "chrome_options.add_argument(\"--no-sandbox\")\n",
    "\n",
    "# Use webdriver-manager to get the driver\n",
    "service = Service(ChromeDriverManager().install())\n",
    "driver = webdriver.Chrome(service=service, options=chrome_options)\n",
    "\n",
    "try:\n",
    "    # Step 1: Open login page\n",
    "    driver.get(\"https://the-internet.herokuapp.com/login\")\n",
    "\n",
    "    # Step 2: Login\n",
    "    driver.find_element(By.ID, \"username\").send_keys(\"tomsmith\")\n",
    "    driver.find_element(By.ID, \"password\").send_keys(\"SuperSecretPassword!\" + Keys.RETURN)\n",
    "\n",
    "    # Step 3: Wait for successful login\n",
    "    WebDriverWait(driver, 10).until(\n",
    "        EC.presence_of_element_located((By.CLASS_NAME, \"flash.success\"))\n",
    "    )\n",
    "\n",
    "    # Step 4: Scrape secure content\n",
    "    secure_area = driver.find_element(By.CLASS_NAME, \"example\")\n",
    "    print(\"Secure Content:\\n\", secure_area.text)\n",
    "\n",
    "    # Step 5: Stay on page for a while\n",
    "    print(\"Staying on the secure page for 5 seconds...\")\n",
    "    time.sleep(5)\n",
    "\n",
    "    # Step 6: Click logout button\n",
    "    logout_button = driver.find_element(By.XPATH, \"//a[@href='/logout']\")\n",
    "    logout_button.click()\n",
    "\n",
    "    # Step 7: Confirm logout success\n",
    "    WebDriverWait(driver, 10).until(\n",
    "        EC.presence_of_element_located((By.CLASS_NAME, \"flash.success\"))\n",
    "    )\n",
    "    print(\"Logged out successfully.\")\n",
    "\n",
    "except Exception as e:\n",
    "    print(\"Error:\", e)\n",
    "\n",
    "finally:\n",
    "    driver.quit()\n"
   ]
  },
  {
   "cell_type": "code",
   "execution_count": null,
   "metadata": {},
   "outputs": [],
   "source": []
  }
 ],
 "metadata": {
  "kernelspec": {
   "display_name": "Python 3 (ipykernel)",
   "language": "python",
   "name": "python3"
  },
  "language_info": {
   "codemirror_mode": {
    "name": "ipython",
    "version": 3
   },
   "file_extension": ".py",
   "mimetype": "text/x-python",
   "name": "python",
   "nbconvert_exporter": "python",
   "pygments_lexer": "ipython3",
   "version": "3.12.4"
  }
 },
 "nbformat": 4,
 "nbformat_minor": 4
}
